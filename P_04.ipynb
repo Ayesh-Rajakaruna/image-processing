{
 "cells": [
  {
   "cell_type": "code",
   "execution_count": 10,
   "id": "native-disposal",
   "metadata": {},
   "outputs": [],
   "source": [
    "import tensorflow as tf\n",
    "from tensorflow import keras \n",
    "from tensorflow.keras import datasets, layers, models\n",
    "import matplotlib.pyplot as plt\n",
    "#from tensorflow import keras"
   ]
  },
  {
   "cell_type": "code",
   "execution_count": 11,
   "id": "descending-overview",
   "metadata": {},
   "outputs": [],
   "source": [
    "(x_train, y_train), (x_test, y_test) = datasets.cifar10.load_data()\n",
    "# Normalize pixel values to be between 0 and 1\n",
    "x_train, x_test = x_train / 255.0, x_test / 255.0"
   ]
  },
  {
   "cell_type": "code",
   "execution_count": 12,
   "id": "perfect-chorus",
   "metadata": {},
   "outputs": [],
   "source": [
    "model = models.Sequential()\n",
    "model.add(layers.Conv2D(32, (3, 3), activation='relu', input_shape=(32, 32, 3)))\n",
    "model.add(layers.MaxPooling2D((2, 2)))\n",
    "model.add(layers.Conv2D(64, (3, 3), activation='relu'))\n",
    "model.add(layers.MaxPooling2D((2, 2)))\n",
    "model.add(layers.Conv2D(64, (3, 3), activation='relu'))\n",
    "model.add(layers.MaxPooling2D((2, 2)))\n",
    "model.add(layers.Flatten())\n",
    "model.add(layers.Dense(64, activation='relu'))\n",
    "model.add(layers.Dense(10))"
   ]
  },
  {
   "cell_type": "code",
   "execution_count": 13,
   "id": "olympic-singapore",
   "metadata": {},
   "outputs": [
    {
     "name": "stdout",
     "output_type": "stream",
     "text": [
      "Model: \"sequential_1\"\n",
      "_________________________________________________________________\n",
      "Layer (type)                 Output Shape              Param #   \n",
      "=================================================================\n",
      "conv2d_3 (Conv2D)            (None, 30, 30, 32)        896       \n",
      "_________________________________________________________________\n",
      "max_pooling2d_3 (MaxPooling2 (None, 15, 15, 32)        0         \n",
      "_________________________________________________________________\n",
      "conv2d_4 (Conv2D)            (None, 13, 13, 64)        18496     \n",
      "_________________________________________________________________\n",
      "max_pooling2d_4 (MaxPooling2 (None, 6, 6, 64)          0         \n",
      "_________________________________________________________________\n",
      "conv2d_5 (Conv2D)            (None, 4, 4, 64)          36928     \n",
      "_________________________________________________________________\n",
      "max_pooling2d_5 (MaxPooling2 (None, 2, 2, 64)          0         \n",
      "_________________________________________________________________\n",
      "flatten_1 (Flatten)          (None, 256)               0         \n",
      "_________________________________________________________________\n",
      "dense_2 (Dense)              (None, 64)                16448     \n",
      "_________________________________________________________________\n",
      "dense_3 (Dense)              (None, 10)                650       \n",
      "=================================================================\n",
      "Total params: 73,418\n",
      "Trainable params: 73,418\n",
      "Non-trainable params: 0\n",
      "_________________________________________________________________\n"
     ]
    }
   ],
   "source": [
    "model.summary()"
   ]
  },
  {
   "cell_type": "code",
   "execution_count": 14,
   "id": "functional-joint",
   "metadata": {},
   "outputs": [],
   "source": [
    "y_train_categorical = keras.utils.to_categorical(\n",
    "    y_train, num_classes=10, dtype = \"float32\")"
   ]
  },
  {
   "cell_type": "code",
   "execution_count": 15,
   "id": "banner-fruit",
   "metadata": {},
   "outputs": [],
   "source": [
    "y_test_categorical = keras.utils.to_categorical(\n",
    "    y_test, num_classes=10, dtype = \"float32\")"
   ]
  },
  {
   "cell_type": "code",
   "execution_count": 16,
   "id": "ecological-liabilities",
   "metadata": {},
   "outputs": [
    {
     "name": "stdout",
     "output_type": "stream",
     "text": [
      "Epoch 1/10\n",
      "1563/1563 [==============================] - 48s 30ms/step - loss: 1.9227 - accuracy: 0.2838 - val_loss: 1.4467 - val_accuracy: 0.4779\n",
      "Epoch 2/10\n",
      "1563/1563 [==============================] - 47s 30ms/step - loss: 1.3440 - accuracy: 0.5150 - val_loss: 1.2169 - val_accuracy: 0.5765\n",
      "Epoch 3/10\n",
      "1563/1563 [==============================] - 47s 30ms/step - loss: 1.1665 - accuracy: 0.5862 - val_loss: 1.1187 - val_accuracy: 0.6159\n",
      "Epoch 4/10\n",
      "1563/1563 [==============================] - 45s 29ms/step - loss: 1.0648 - accuracy: 0.6278 - val_loss: 1.0906 - val_accuracy: 0.6249\n",
      "Epoch 5/10\n",
      "1563/1563 [==============================] - 46s 29ms/step - loss: 0.9775 - accuracy: 0.6562 - val_loss: 1.1154 - val_accuracy: 0.6298\n",
      "Epoch 6/10\n",
      "1563/1563 [==============================] - 47s 30ms/step - loss: 0.9271 - accuracy: 0.6759 - val_loss: 1.0563 - val_accuracy: 0.6468\n",
      "Epoch 7/10\n",
      "1563/1563 [==============================] - 46s 29ms/step - loss: 0.8633 - accuracy: 0.6954 - val_loss: 1.0639 - val_accuracy: 0.6386\n",
      "Epoch 8/10\n",
      "1563/1563 [==============================] - 47s 30ms/step - loss: 0.8462 - accuracy: 0.7039 - val_loss: 0.9737 - val_accuracy: 0.6739\n",
      "Epoch 9/10\n",
      "1563/1563 [==============================] - 46s 29ms/step - loss: 0.8090 - accuracy: 0.7174 - val_loss: 1.0015 - val_accuracy: 0.6635\n",
      "Epoch 10/10\n",
      "1563/1563 [==============================] - 45s 29ms/step - loss: 0.7740 - accuracy: 0.7273 - val_loss: 1.0765 - val_accuracy: 0.6447\n"
     ]
    }
   ],
   "source": [
    "opt = tf.keras.optimizers.SGD(learning_rate=1.4e-2, momentum=0.9)\n",
    "model.compile(optimizer=opt,\n",
    "              loss=tf.keras.losses.CategoricalCrossentropy(from_logits=True),\n",
    "              metrics=['accuracy'])\n",
    "history = model.fit(x_train, y_train_categorical, epochs=10,\n",
    "                   validation_data=(x_test, y_test_categorical))"
   ]
  },
  {
   "cell_type": "code",
   "execution_count": 18,
   "id": "special-machine",
   "metadata": {},
   "outputs": [
    {
     "name": "stdout",
     "output_type": "stream",
     "text": [
      "313/313 - 3s - loss: 1.0765 - accuracy: 0.6447\n",
      "1563/1563 - 12s - loss: 0.7473 - accuracy: 0.7390\n"
     ]
    },
    {
     "data": {
      "image/png": "[encoded data removed]",
      "text/plain": [
       "<Figure size 432x288 with 1 Axes>"
      ]
     },
     "metadata": {
      "needs_background": "light"
     },
     "output_type": "display_data"
    }
   ],
   "source": [
    "plt.plot(history.history['accuracy'], label='accuracy')\n",
    "plt.plot(history.history['val_accuracy'], label = 'val_accuracy')\n",
    "plt.xlabel('Epoch')\n",
    "plt.ylabel('Accuracy')\n",
    "plt.ylim([0.5, 1])\n",
    "plt.legend(loc='lower right')\n",
    "test_loss, test_acc = model.evaluate(x_test, y_test_categorical, verbose=2)\n",
    "train_loss, train_acc = model.evaluate(x_train, y_train_categorical, verbose=2)"
   ]
  },
  {
   "cell_type": "code",
   "execution_count": 19,
   "id": "enabling-george",
   "metadata": {},
   "outputs": [
    {
     "name": "stdout",
     "output_type": "stream",
     "text": [
      "test_loss= 1.076539158821106\n",
      "test_acc= 0.6446999907493591\n",
      "train_loss= 0.7472845315933228\n",
      "train_acc= 0.7390000224113464\n"
     ]
    }
   ],
   "source": [
    "print(\"test_loss=\",test_loss)\n",
    "print(\"test_acc=\",test_acc)\n",
    "print(\"train_loss=\",train_loss)\n",
    "print(\"train_acc=\",train_acc)"
   ]
  }
 ],
 "metadata": {
  "kernelspec": {
   "display_name": "Python 3",
   "language": "python",
   "name": "python3"
  },
  "language_info": {
   "codemirror_mode": {
    "name": "ipython",
    "version": 3
   },
   "file_extension": ".py",
   "mimetype": "text/x-python",
   "name": "python",
   "nbconvert_exporter": "python",
   "pygments_lexer": "ipython3",
   "version": "3.7.9"
  }
 },
 "nbformat": 4,
 "nbformat_minor": 5
}
